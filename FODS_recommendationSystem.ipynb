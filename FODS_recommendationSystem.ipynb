{
  "nbformat": 4,
  "nbformat_minor": 0,
  "metadata": {
    "colab": {
      "provenance": []
    },
    "kernelspec": {
      "name": "python3",
      "display_name": "Python 3"
    },
    "language_info": {
      "name": "python"
    }
  },
  "cells": [
    {
      "cell_type": "markdown",
      "source": [
        "FoDS User-based Movie Recommender System\n",
        "\n",
        "Priscilla Abigail Munthe (2602109883)\n",
        "\n",
        "Dataset used: http://grouplens.org/datasets/movielens/ - MovieLens 25M Dataset\n",
        "\n",
        "Steps:\n",
        "1. Select a user with the movies the user has watched\n",
        "2. Based on his rating to movies, find the top x neighbours\n",
        "3. Get the watched movie record of the user for each neighbour.\n",
        "4. Calculate a similarity score using some formula\n",
        "5. Recommend the items with the highest score\n",
        "\n"
      ],
      "metadata": {
        "id": "hkg2WNSkpqku"
      }
    },
    {
      "cell_type": "code",
      "execution_count": 77,
      "metadata": {
        "id": "dnCZRB-_lNpb"
      },
      "outputs": [],
      "source": [
        "import pandas as pd\n",
        "import numpy as np\n",
        "from math import sqrt"
      ]
    },
    {
      "cell_type": "code",
      "source": [
        "moviesDF = pd.read_csv('movies.csv')\n",
        "ratingsDF = pd.read_csv('ratings.csv')\n",
        "print(moviesDF.info())\n",
        "print(ratingsDF.info())"
      ],
      "metadata": {
        "colab": {
          "base_uri": "https://localhost:8080/"
        },
        "id": "p8anfiaOqt39",
        "outputId": "3cf7e6f6-f96a-4254-d117-885ffda622c1"
      },
      "execution_count": 78,
      "outputs": [
        {
          "output_type": "stream",
          "name": "stdout",
          "text": [
            "<class 'pandas.core.frame.DataFrame'>\n",
            "RangeIndex: 62423 entries, 0 to 62422\n",
            "Data columns (total 3 columns):\n",
            " #   Column   Non-Null Count  Dtype \n",
            "---  ------   --------------  ----- \n",
            " 0   movieId  62423 non-null  int64 \n",
            " 1   title    62423 non-null  object\n",
            " 2   genres   62423 non-null  object\n",
            "dtypes: int64(1), object(2)\n",
            "memory usage: 1.4+ MB\n",
            "None\n",
            "<class 'pandas.core.frame.DataFrame'>\n",
            "RangeIndex: 17879053 entries, 0 to 17879052\n",
            "Data columns (total 4 columns):\n",
            " #   Column     Dtype  \n",
            "---  ------     -----  \n",
            " 0   userId     int64  \n",
            " 1   movieId    int64  \n",
            " 2   rating     float64\n",
            " 3   timestamp  int64  \n",
            "dtypes: float64(1), int64(3)\n",
            "memory usage: 545.6 MB\n",
            "None\n"
          ]
        }
      ]
    },
    {
      "cell_type": "code",
      "source": [
        "userInput = [{'title':'Divergent (2014)', 'rating':1},\n",
        "             {'title':'Letters to Juliet (2010)', 'rating':5},\n",
        "             {'title':'Parent Trap, The (1961)', 'rating':4},\n",
        "             {'title':'13 Going on 30 (2004)', 'rating':4.5},\n",
        "             {'title':'Split (2017)', 'rating':1}]\n",
        "inputMovies = pd.DataFrame(userInput)\n",
        "print(inputMovies)"
      ],
      "metadata": {
        "colab": {
          "base_uri": "https://localhost:8080/"
        },
        "id": "8WCBNbqcrm5e",
        "outputId": "d0c6f324-79d6-4bb0-b128-872fa540bc90"
      },
      "execution_count": 79,
      "outputs": [
        {
          "output_type": "stream",
          "name": "stdout",
          "text": [
            "                      title  rating\n",
            "0          Divergent (2014)     1.0\n",
            "1  Letters to Juliet (2010)     5.0\n",
            "2   Parent Trap, The (1961)     4.0\n",
            "3     13 Going on 30 (2004)     4.5\n",
            "4              Split (2017)     1.0\n"
          ]
        }
      ]
    },
    {
      "cell_type": "code",
      "source": [
        "inputId = moviesDF[moviesDF['title'].isin(inputMovies['title'].tolist())]\n",
        "inputMovies = pd.merge(inputId, inputMovies)\n",
        "inputMovies = inputMovies.drop('genres', 1)\n",
        "inputMovies = inputMovies[['movieId','title','rating']]\n",
        "print(inputMovies)"
      ],
      "metadata": {
        "colab": {
          "base_uri": "https://localhost:8080/"
        },
        "id": "Qi9csTnPtQX9",
        "outputId": "808a9a04-6db0-4730-ded9-79764f0ec5e7"
      },
      "execution_count": 80,
      "outputs": [
        {
          "output_type": "stream",
          "name": "stdout",
          "text": [
            "   movieId                     title  rating\n",
            "0     1013   Parent Trap, The (1961)     4.0\n",
            "1     7444     13 Going on 30 (2004)     4.5\n",
            "2    78316  Letters to Juliet (2010)     5.0\n",
            "3   108190          Divergent (2014)     1.0\n",
            "4   166534              Split (2017)     1.0\n"
          ]
        },
        {
          "output_type": "stream",
          "name": "stderr",
          "text": [
            "<ipython-input-80-0ef9f872014d>:3: FutureWarning: In a future version of pandas all arguments of DataFrame.drop except for the argument 'labels' will be keyword-only.\n",
            "  inputMovies = inputMovies.drop('genres', 1)\n"
          ]
        }
      ]
    },
    {
      "cell_type": "code",
      "source": [
        "userSubset = ratingsDF[ratingsDF['movieId'].isin(inputMovies['movieId'].tolist())]\n",
        "print(userSubset.groupby('movieId').count())"
      ],
      "metadata": {
        "colab": {
          "base_uri": "https://localhost:8080/"
        },
        "id": "TUf1vwoKyT0r",
        "outputId": "d28b46f7-8e7f-4904-a619-261062598dcd"
      },
      "execution_count": 81,
      "outputs": [
        {
          "output_type": "stream",
          "name": "stdout",
          "text": [
            "         userId  rating  timestamp\n",
            "movieId                           \n",
            "1013       3096    3096       3096\n",
            "7444       3741    3741       3741\n",
            "78316       750     750        750\n",
            "108190     2803    2803       2803\n",
            "166534     1992    1992       1992\n"
          ]
        }
      ]
    },
    {
      "cell_type": "code",
      "source": [
        "userSubsetGroup = userSubset.groupby(['userId'])\n",
        "\n",
        "def take_5_elem(x):\n",
        "  return len(x[1])\n",
        "\n",
        "userSubsetGroup = sorted(userSubsetGroup, key= take_5_elem, reverse=True)\n",
        "\n",
        "userSubsetGroup = userSubsetGroup[0:100]\n",
        "print(userSubsetGroup[0:5])"
      ],
      "metadata": {
        "colab": {
          "base_uri": "https://localhost:8080/"
        },
        "id": "_Tgx7jBg05h_",
        "outputId": "eff45fb6-1db3-40fa-c4c7-3b65b8629884"
      },
      "execution_count": 82,
      "outputs": [
        {
          "output_type": "stream",
          "name": "stderr",
          "text": [
            "<ipython-input-82-3ca15e6aebad>:6: FutureWarning: In a future version of pandas, a length 1 tuple will be returned when iterating over a groupby with a grouper equal to a list of length 1. Don't supply a list with a single grouper to avoid this warning.\n",
            "  userSubsetGroup = sorted(userSubsetGroup, key= take_5_elem, reverse=True)\n"
          ]
        },
        {
          "output_type": "stream",
          "name": "stdout",
          "text": [
            "[(15560,          userId  movieId  rating   timestamp\n",
            "2336579   15560     1013     3.0  1328039036\n",
            "2337191   15560     7444     3.0  1328036052\n",
            "2337443   15560    78316     1.5  1329173120\n",
            "2337570   15560   108190     3.5  1427655833\n",
            "2337648   15560   166534     3.5  1485733899), (53015,          userId  movieId  rating   timestamp\n",
            "8146191   53015     1013     3.0  1208735685\n",
            "8146626   53015     7444     3.5  1205205619\n",
            "8147174   53015    78316     3.0  1284584578\n",
            "8147466   53015   108190     2.5  1411855903\n",
            "8147692   53015   166534     2.0  1550959877), (57548,          userId  movieId  rating   timestamp\n",
            "8824325   57548     1013     0.5  1480865175\n",
            "8826466   57548     7444     1.0  1480694310\n",
            "8827424   57548    78316     0.5  1482956655\n",
            "8827956   57548   108190     0.5  1452415184\n",
            "8828589   57548   166534     0.5  1487843584), (72315,           userId  movieId  rating   timestamp\n",
            "11119932   72315     1013     3.5  1566577446\n",
            "11124661   72315     7444     3.0  1535602352\n",
            "11130276   72315    78316     3.0  1535602356\n",
            "11134309   72315   108190     3.0  1450165502\n",
            "11143798   72315   166534     3.0  1493348514), (89464,           userId  movieId  rating   timestamp\n",
            "13802587   89464     1013     3.5  1341862326\n",
            "13804506   89464     7444     3.0  1341861403\n",
            "13805199   89464    78316     2.5  1497499556\n",
            "13805487   89464   108190     3.0  1420691751\n",
            "13805709   89464   166534     3.0  1527664539)]\n"
          ]
        }
      ]
    },
    {
      "cell_type": "code",
      "source": [
        "pearsonCorrelationDict = {}\n",
        "\n",
        "for name, group in userSubsetGroup:\n",
        "\n",
        "  group = group.sort_values(by='movieId')\n",
        "  inputMovies = inputMovies.sort_values(by='movieId')\n",
        "\n",
        "  nRatings = len(group)\n",
        "\n",
        "  tempDF = inputMovies[inputMovies['movieId'].isin(group['movieId'].tolist())]\n",
        "\n",
        "  tempRatings = tempDF['rating'].tolist()\n",
        "\n",
        "  tempGroups = group['rating'].tolist()\n",
        "\n",
        "  Sxx = sum([i**2 for i in tempRatings]) - pow(sum(tempRatings),2)/float(nRatings)\n",
        "  Syy = sum([i**2 for i in tempGroups]) - pow(sum(tempGroups),2)/float(nRatings)\n",
        "  Sxy = sum( i*j for i, j in zip(tempRatings, tempGroups)) - sum(tempRatings)*sum(tempGroups)/float(nRatings)\n",
        "\n",
        "  if Sxx != 0 and Syy != 0:\n",
        "        pearsonCorrelationDict[name] = Sxy/sqrt(Sxx*Syy)\n",
        "  else:\n",
        "        pearsonCorrelationDict[name] = 0"
      ],
      "metadata": {
        "id": "ClkaYZFL1bEg"
      },
      "execution_count": 83,
      "outputs": []
    },
    {
      "cell_type": "code",
      "source": [
        "pearsonDF = pd.DataFrame.from_dict(pearsonCorrelationDict, orient='index')\n",
        "pearsonDF.columns = ['similarityIndex']\n",
        "pearsonDF['userId'] = pearsonDF.index\n",
        "pearsonDF.index = range(len(pearsonDF))\n",
        "print(pearsonDF.head())"
      ],
      "metadata": {
        "colab": {
          "base_uri": "https://localhost:8080/"
        },
        "id": "IPk4pUod2xyO",
        "outputId": "85ee4f6f-0209-446c-d13f-61bff9a65d60"
      },
      "execution_count": 85,
      "outputs": [
        {
          "output_type": "stream",
          "name": "stdout",
          "text": [
            "   similarityIndex  userId\n",
            "0        -0.772683   15560\n",
            "1         0.866098   53015\n",
            "2         0.401478   57548\n",
            "3         0.258093   72315\n",
            "4        -0.181369   89464\n"
          ]
        }
      ]
    },
    {
      "cell_type": "code",
      "source": [
        "topUsers=pearsonDF.sort_values(by='similarityIndex', ascending=False)[0:50]\n",
        "print(topUsers.head())"
      ],
      "metadata": {
        "colab": {
          "base_uri": "https://localhost:8080/"
        },
        "id": "IxdJaz9H2zjQ",
        "outputId": "a408ec16-1340-4d95-dd05-719e6eeec6e3"
      },
      "execution_count": 86,
      "outputs": [
        {
          "output_type": "stream",
          "name": "stdout",
          "text": [
            "    similarityIndex  userId\n",
            "67         0.994135   79381\n",
            "43         0.992207   44364\n",
            "48         0.973852   49000\n",
            "60         0.908739   74963\n",
            "49         0.877220   52123\n"
          ]
        }
      ]
    },
    {
      "cell_type": "code",
      "source": [
        "topUsersRating=topUsers.merge(ratingsDF, left_on='userId', right_on='userId', how='inner')\n",
        "print(topUsersRating.head(100))"
      ],
      "metadata": {
        "colab": {
          "base_uri": "https://localhost:8080/"
        },
        "id": "VssY2i4i214h",
        "outputId": "f3c26b2c-0293-440b-d30f-49c690f9d636"
      },
      "execution_count": 87,
      "outputs": [
        {
          "output_type": "stream",
          "name": "stdout",
          "text": [
            "    similarityIndex  userId  movieId  rating   timestamp\n",
            "0          0.994135   79381        1     4.0  1371334767\n",
            "1          0.994135   79381        5     3.0  1442179733\n",
            "2          0.994135   79381        6     2.0  1371564031\n",
            "3          0.994135   79381        7     2.5  1442611730\n",
            "4          0.994135   79381       11     4.0  1371395905\n",
            "..              ...     ...      ...     ...         ...\n",
            "95         0.994135   79381      377     4.0  1371251848\n",
            "96         0.994135   79381      380     3.5  1371917498\n",
            "97         0.994135   79381      437     2.0  1442178067\n",
            "98         0.994135   79381      440     4.5  1371396654\n",
            "99         0.994135   79381      442     3.0  1392498075\n",
            "\n",
            "[100 rows x 5 columns]\n"
          ]
        }
      ]
    },
    {
      "cell_type": "code",
      "source": [
        "topUsersRating['weightedRating'] = topUsersRating['similarityIndex']*topUsersRating['rating']\n",
        "print(topUsersRating.head())"
      ],
      "metadata": {
        "colab": {
          "base_uri": "https://localhost:8080/"
        },
        "id": "7czW5rKP2608",
        "outputId": "9f3ed3d4-225e-4a95-aa3f-ac82a5cd8b71"
      },
      "execution_count": 88,
      "outputs": [
        {
          "output_type": "stream",
          "name": "stdout",
          "text": [
            "   similarityIndex  userId  movieId  rating   timestamp  weightedRating\n",
            "0         0.994135   79381        1     4.0  1371334767        3.976539\n",
            "1         0.994135   79381        5     3.0  1442179733        2.982405\n",
            "2         0.994135   79381        6     2.0  1371564031        1.988270\n",
            "3         0.994135   79381        7     2.5  1442611730        2.485337\n",
            "4         0.994135   79381       11     4.0  1371395905        3.976539\n"
          ]
        }
      ]
    },
    {
      "cell_type": "code",
      "source": [
        "tempTopUsersRating = topUsersRating.groupby('movieId').sum()[['similarityIndex','weightedRating']]\n",
        "tempTopUsersRating.columns = ['sum_similarityIndex','sum_weightedRating']\n",
        "print(tempTopUsersRating.head())"
      ],
      "metadata": {
        "colab": {
          "base_uri": "https://localhost:8080/"
        },
        "id": "z04ko4_C29qE",
        "outputId": "1a576774-2af8-47d7-d660-e1dfdb53702c"
      },
      "execution_count": 89,
      "outputs": [
        {
          "output_type": "stream",
          "name": "stdout",
          "text": [
            "         sum_similarityIndex  sum_weightedRating\n",
            "movieId                                         \n",
            "1                  16.745271           63.312993\n",
            "2                  13.908934           49.300677\n",
            "3                   4.057297           11.954743\n",
            "4                   3.465587            7.621289\n",
            "5                   9.498582           30.592048\n"
          ]
        }
      ]
    },
    {
      "cell_type": "code",
      "source": [
        "recommendation_df = pd.DataFrame()\n",
        "\n",
        "recommendation_df['weighted average recommendation score'] = tempTopUsersRating['sum_weightedRating']/tempTopUsersRating['sum_similarityIndex']\n",
        "recommendation_df['movieId'] = tempTopUsersRating.index\n",
        "print(recommendation_df.head(10))"
      ],
      "metadata": {
        "colab": {
          "base_uri": "https://localhost:8080/"
        },
        "id": "4H1v-d0V3AZ5",
        "outputId": "e1ece8e9-43da-495e-c2db-b686d76dd1cf"
      },
      "execution_count": 90,
      "outputs": [
        {
          "output_type": "stream",
          "name": "stdout",
          "text": [
            "         weighted average recommendation score  movieId\n",
            "movieId                                                \n",
            "1                                     3.780948        1\n",
            "2                                     3.544533        2\n",
            "3                                     2.946480        3\n",
            "4                                     2.199134        4\n",
            "5                                     3.220696        5\n",
            "6                                     2.955963        6\n",
            "7                                     3.244352        7\n",
            "8                                     2.515735        8\n",
            "9                                     1.126591        9\n",
            "10                                    2.634261       10\n"
          ]
        }
      ]
    },
    {
      "cell_type": "code",
      "source": [
        "recommendation_df = recommendation_df.sort_values(by='weighted average recommendation score', ascending=False)\n",
        "print(recommendation_df)"
      ],
      "metadata": {
        "colab": {
          "base_uri": "https://localhost:8080/"
        },
        "id": "Uz__iDnY3EH8",
        "outputId": "f6464b18-9fba-4ed9-ec9f-b4485da65414"
      },
      "execution_count": 91,
      "outputs": [
        {
          "output_type": "stream",
          "name": "stdout",
          "text": [
            "         weighted average recommendation score  movieId\n",
            "movieId                                                \n",
            "203513                               21.553128   203513\n",
            "41889                                 6.110354    41889\n",
            "70670                                 5.692387    70670\n",
            "8153                                  5.692387     8153\n",
            "6427                                  5.692387     6427\n",
            "...                                        ...      ...\n",
            "208096                                     NaN   208096\n",
            "208172                                     NaN   208172\n",
            "208385                                     NaN   208385\n",
            "208747                                     NaN   208747\n",
            "208939                                     NaN   208939\n",
            "\n",
            "[35441 rows x 2 columns]\n"
          ]
        }
      ]
    },
    {
      "cell_type": "code",
      "source": [
        "recommended_movie=moviesDF.loc[moviesDF['movieId'].isin(recommendation_df['movieId'])]\n",
        "\n",
        "recommended_movie=recommended_movie.loc[~recommended_movie.movieId.isin(userSubset['movieId'])]\n",
        "\n",
        "print(recommended_movie)"
      ],
      "metadata": {
        "colab": {
          "base_uri": "https://localhost:8080/"
        },
        "id": "vHy2Uzg63G6Y",
        "outputId": "95381601-655e-4250-b1fa-1f7e11c05642"
      },
      "execution_count": 92,
      "outputs": [
        {
          "output_type": "stream",
          "name": "stdout",
          "text": [
            "       movieId                               title  \\\n",
            "0            1                    Toy Story (1995)   \n",
            "1            2                      Jumanji (1995)   \n",
            "2            3             Grumpier Old Men (1995)   \n",
            "3            4            Waiting to Exhale (1995)   \n",
            "4            5  Father of the Bride Part II (1995)   \n",
            "...        ...                                 ...   \n",
            "62226   208385          Holiday in the Wild (2019)   \n",
            "62313   208715                  Let It Snow (2019)   \n",
            "62323   208747                The Good Liar (2019)   \n",
            "62346   208813                       Noelle (2019)   \n",
            "62374   208939                        Klaus (2019)   \n",
            "\n",
            "                                            genres  \n",
            "0      Adventure|Animation|Children|Comedy|Fantasy  \n",
            "1                       Adventure|Children|Fantasy  \n",
            "2                                   Comedy|Romance  \n",
            "3                             Comedy|Drama|Romance  \n",
            "4                                           Comedy  \n",
            "...                                            ...  \n",
            "62226                                Drama|Romance  \n",
            "62313                               Comedy|Romance  \n",
            "62323                                Drama|Mystery  \n",
            "62346                                     Children  \n",
            "62374          Adventure|Animation|Children|Comedy  \n",
            "\n",
            "[35436 rows x 3 columns]\n"
          ]
        }
      ]
    }
  ]
}